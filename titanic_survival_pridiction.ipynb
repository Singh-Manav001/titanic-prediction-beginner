{
 "cells": [
  {
   "cell_type": "code",
   "execution_count": 20,
   "id": "20084b5b-5c2e-49cd-a38c-538784f8d230",
   "metadata": {},
   "outputs": [
    {
     "name": "stdout",
     "output_type": "stream",
     "text": [
      "\n",
      "Accuracy: 0.8212290502793296\n",
      "\n",
      "Classification Report:\n",
      "              precision    recall  f1-score   support\n",
      "\n",
      "           0       0.86      0.85      0.85       110\n",
      "           1       0.76      0.78      0.77        69\n",
      "\n",
      "    accuracy                           0.82       179\n",
      "   macro avg       0.81      0.81      0.81       179\n",
      "weighted avg       0.82      0.82      0.82       179\n",
      "\n",
      "\n",
      "New Passenger Prediction: Survived\n"
     ]
    }
   ],
   "source": [
    "  \n",
    "import pandas as pd\n",
    "from sklearn.model_selection import train_test_split\n",
    "from sklearn.linear_model import LogisticRegression\n",
    "from sklearn.metrics import accuracy_score, classification_report\n",
    "\n",
    " \n",
    "file_path = \"Titanic-Dataset.csv\"  # Local file, ensure it's in the same folder\n",
    "\n",
    " \n",
    "try:\n",
    "    df = pd.read_csv(file_path)\n",
    "except FileNotFoundError:\n",
    "    print(\"File not found. Make sure 'Titanic-Dataset.csv' is in the same folder as this notebook.\")\n",
    "    raise\n",
    "\n",
    " \n",
    "df.drop(columns=[col for col in ['PassengerId', 'Name', 'Ticket', 'Cabin'] if col in df.columns], inplace=True)\n",
    "\n",
    " \n",
    "if 'Age' in df.columns:\n",
    "    df['Age'] = df['Age'].fillna(df['Age'].median())\n",
    "if 'Fare' in df.columns:\n",
    "    df['Fare'] = df['Fare'].fillna(df['Fare'].median())\n",
    "if 'Embarked' in df.columns:\n",
    "    df['Embarked'] = df['Embarked'].fillna(df['Embarked'].mode()[0])\n",
    "\n",
    "# Convert categorical to numeric (if columns exist)\n",
    "if 'Sex' in df.columns:\n",
    "    df['Sex'] = df['Sex'].map({'male': 0, 'female': 1})\n",
    "if 'Embarked' in df.columns:\n",
    "    df['Embarked'] = df['Embarked'].map({'S': 0, 'C': 1, 'Q': 2})\n",
    "\n",
    " \n",
    "X_cols = [col for col in ['Pclass', 'Sex', 'Age', 'SibSp', 'Parch', 'Fare', 'Embarked'] if col in df.columns]\n",
    "X = df[X_cols]\n",
    "y = df['Survived']\n",
    "\n",
    " \n",
    "X = X.fillna(X.median(numeric_only=True))\n",
    "\n",
    " \n",
    "X_train, X_test, y_train, y_test = train_test_split(X, y, test_size=0.2, random_state=0)\n",
    "\n",
    " \n",
    "model = LogisticRegression(max_iter=200)\n",
    "model.fit(X_train, y_train)\n",
    "\n",
    " \n",
    "y_pred = model.predict(X_test)\n",
    "\n",
    " \n",
    "print(\"\\nAccuracy:\", accuracy_score(y_test, y_pred))\n",
    "print(\"\\nClassification Report:\")\n",
    "print(classification_report(y_test, y_pred))\n",
    "\n",
    " \n",
    "new_passenger = pd.DataFrame([[3, 1, 29, 0, 0, 7.25, 0]], columns=X_cols)\n",
    "pred = model.predict(new_passenger)\n",
    "print(\"\\nNew Passenger Prediction:\", \"Survived\" if pred[0] == 1 else \"Did Not Survive\")\n"
   ]
  },
  {
   "cell_type": "code",
   "execution_count": null,
   "id": "0f811f83-74c4-4861-a956-9de132495db1",
   "metadata": {},
   "outputs": [],
   "source": []
  },
  {
   "cell_type": "code",
   "execution_count": null,
   "id": "cda7cfc5-e6f1-4413-9494-5afa1259cbd6",
   "metadata": {},
   "outputs": [],
   "source": []
  }
 ],
 "metadata": {
  "kernelspec": {
   "display_name": "Python 3 (ipykernel)",
   "language": "python",
   "name": "python3"
  },
  "language_info": {
   "codemirror_mode": {
    "name": "ipython",
    "version": 3
   },
   "file_extension": ".py",
   "mimetype": "text/x-python",
   "name": "python",
   "nbconvert_exporter": "python",
   "pygments_lexer": "ipython3",
   "version": "3.12.7"
  }
 },
 "nbformat": 4,
 "nbformat_minor": 5
}
